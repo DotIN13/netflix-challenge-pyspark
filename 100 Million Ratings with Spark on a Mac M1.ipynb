{
 "cells": [
  {
   "cell_type": "markdown",
   "id": "cf9a05cf-eab4-41c4-b309-8ca7301a2056",
   "metadata": {},
   "source": [
    "# 100 Million Ratings with Spark on a Mac M1\n",
    "\n",
    "<br>\n",
    "\n",
    "Is it feasable to train a model on 100 million rows using nothing more than a common laptop? Let's find out. \n",
    "\n",
    "I've been refreshing Spark lately and wanted to give it a try on a dataset I wouldn't be able to deal with using non-big data tools such as Pandas and Numpy. I came across the dataset and the Netflix challenge it originates from some time ago, but have never really had any reason to work on it. Until now. I should also confess that I've been inspired by [Jared Pollack](https://www.linkedin.com/in/jaredpollack713/) from our discussion about it some time ago. \n",
    "\n",
    "\n",
    "The dataset can be downloaded through [this](https://www.kaggle.com/netflix-inc/netflix-prize-data) link.\n",
    "\n",
    "[Conclusions](#conclusions) can be found at the end.\n",
    "\n",
    "\n",
    "\n",
    "<br><br>\n",
    "\n",
    "\n",
    "<a name=\"top\"></a>\n",
    "\n",
    "<br>\n",
    "\n",
    "\n",
    "- [Prepare, Merge and Convert the Data to Parquet Format](#prepare_merge_convert)\n",
    "    - [Prepare the Data](#prepare)\n",
    "    - [Merge and Convert to Parquet Format](#convert_parquet)\n",
    "- [Initial Exploratory Data Analysis](#initial_eda)\n",
    "- [Feature Engineering](#FE)\n",
    "- [Data Visualisation](#data_vis)\n",
    "- [Machine Learning modelling](#ml-modelling)\n",
    "    - [Get Baseline Results with Linear Regression](#baseline)\n",
    "    - [Tune and Evaluate Multiple Regressors](#regressors)\n",
    "- [Train the Best GBTRegressor on the Full Dataset](#best_model)\n",
    "- [Which Features are most Important?](#feature_importance)\n",
    "- [Conclusions](#conclusions)\n",
    "\n",
    "\n",
    "<br><br>\n"
   ]
  },
  {
   "cell_type": "code",
   "execution_count": 1,
   "id": "c22b6692-355c-4abc-8b34-6bc251fbb9de",
   "metadata": {},
   "outputs": [],
   "source": [
    "import os\n",
    "import time\n",
    "import matplotlib.pyplot as plt\n",
    "import seaborn as sns; sns.set()\n",
    "import pandas as pd\n",
    "\n",
    "from pyspark import SparkContext, SparkConf\n",
    "from pyspark.sql import SparkSession, Window\n",
    "from pyspark.sql.types import IntegerType, DoubleType\n",
    "from pyspark.sql.functions import date_format, datediff, to_date, udf, count\n",
    "from pyspark.sql.functions import round as spark_round\n",
    "from pyspark.ml.feature import FeatureHasher, StringIndexer, VectorAssembler\n",
    "from pyspark.ml.regression import LinearRegression, DecisionTreeRegressor\n",
    "from pyspark.ml.regression import RandomForestRegressor, GBTRegressor\n",
    "from pyspark.ml.evaluation import RegressionEvaluator\n",
    "from pyspark.ml.tuning import TrainValidationSplit, ParamGridBuilder\n",
    "from pyspark.ml import Pipeline"
   ]
  },
  {
   "cell_type": "markdown",
   "id": "18e65caa",
   "metadata": {},
   "source": [
    "<a name=\"prepare_merge_convert\"></a>\n",
    "\n",
    "\n",
    "## [Prepare, Merge and Convert the Data to Parquet Format](#top)\n",
    "\n",
    "The steps in this notebook assumes that the data has already been prepared and converted to a format more suitable for larger datasets. In case you haven't done that already, below scripts allows you to do that. \n",
    "\n",
    "\n",
    "<a name=\"prepare\"></a>\n",
    "\n",
    "\n",
    "### [Prepare the Data](#top)\n",
    "\n",
    "The data comes ill-suited for analysis and needs to be prepared before taking any further steps. Run the cell below to create a file called `prepare_data.py` before executing the script `!python3 prepare_data.py`. Note that the script may take some time. "
   ]
  },
  {
   "cell_type": "code",
   "execution_count": 45,
   "id": "b94b5145",
   "metadata": {},
   "outputs": [
    {
     "name": "stdout",
     "output_type": "stream",
     "text": [
      "Writing prepare_data.py\n"
     ]
    }
   ],
   "source": [
    "%%writefile prepare_data.py\n",
    "import os\n",
    "import pandas as pd\n",
    "\n",
    "\n",
    "if __name__ == \"__main__\":\n",
    "\n",
    "    # Get file names\n",
    "    d = \"netflix-dataset\"\n",
    "    original_files = [f for f in os.listdir(d) if \"combined_data\" in f]\n",
    "\n",
    "    # Loop over the original files and clean them up\n",
    "    for filename in original_files:\n",
    "        new_lines = []\n",
    "        print(f\"Working on file {filename}...\")\n",
    "\n",
    "        # Open the file filename, identify the movieID and add it to corresponding rows\n",
    "        with open(f\"netflix-dataset/{filename}\") as data:\n",
    "            for line in data:\n",
    "                if \":\\n\" in line:\n",
    "                    movieID = line.strip(\":\\n\")\n",
    "                else:\n",
    "                    new_line = movieID+\",\"+line\n",
    "                    new_line = new_line.strip(\"\\n\").split(\",\")\n",
    "                    new_lines.append(new_line)\n",
    "\n",
    "            # Save to new file\n",
    "            df = pd.DataFrame(new_lines)\n",
    "            new_filename = \"cleaned_\" + filename.replace(\"txt\", \"csv\")\n",
    "            df.to_csv(f'cleaned-dataset/{new_filename}', header=False, index=False)\n",
    "\n",
    "            print(\"Done!\")\n",
    "            print(f\"Stored to {new_filename}\")"
   ]
  },
  {
   "cell_type": "code",
   "execution_count": null,
   "id": "24bbc029",
   "metadata": {},
   "outputs": [],
   "source": [
    "# Uncomment to run the clean_data.py script\n",
    "#!python3 prepare_data.py"
   ]
  },
  {
   "cell_type": "markdown",
   "id": "4ae96280",
   "metadata": {},
   "source": [
    "<a name=\"convert_parquet\"></a>\n",
    "\n",
    "### [Merge and Convert to Parquet Format](#top)\n",
    "\n",
    "Movie release year is not integrated in the main data files. In order to integrate it we have to load and merge it with the `movie_titles.csv` file. Then we convert it to Parquet format. Run the cell below to create the `convert_parquet.py` file before executing the following script. \n"
   ]
  },
  {
   "cell_type": "code",
   "execution_count": 97,
   "id": "09fd4dbe",
   "metadata": {},
   "outputs": [
    {
     "name": "stdout",
     "output_type": "stream",
     "text": [
      "Writing convert_parquet.py\n"
     ]
    }
   ],
   "source": [
    "%%writefile convert_parquet.py\n",
    "from pyspark import SparkContext, SparkConf\n",
    "from pyspark.sql import SparkSession\n",
    "from pyspark.sql.types import StructType, StructField, IntegerType, DateType, StringType, FloatType\n",
    "import os\n",
    "\n",
    "\n",
    "if __name__ == \"__main__\":\n",
    "\n",
    "    # Input and output data paths\n",
    "    data_csv = \"cleaned-dataset-csv/cleaned_*.csv\"\n",
    "    movie_titles_path = \"netflix-dataset/movie_titles.csv\"\n",
    "    output_data_parquet = \"data-parquet\"\n",
    "\n",
    "\n",
    "    skip = False\n",
    "\n",
    "    # If parquet file already exist, don't convert it. \n",
    "    if os.path.exists(output_data_parquet):\n",
    "        skip = True\n",
    "\n",
    "\n",
    "    if not skip:\n",
    "        # Initiate SparkContext if currently not running\n",
    "        try:\n",
    "            sc = SparkContext(appName=\"CSV to Parquet\")\n",
    "            spark = SparkSession.builder.master(\"local\").getOrCreate()\n",
    "        except: \n",
    "            pass\n",
    "\n",
    "\n",
    "    # Specify name and data type for each column and DataFrame\n",
    "    schema_data = StructType([\n",
    "        StructField(\"MovieID\", IntegerType(), True),\n",
    "        StructField(\"CustomerID\", IntegerType(), True),\n",
    "        StructField(\"Rating\", FloatType(), True),\n",
    "        StructField(\"RatingDate\", DateType(), True)])\n",
    "    schema_movies = StructType([\n",
    "        StructField(\"MovieID\", IntegerType(), True),\n",
    "        StructField(\"YearOfRelease\", IntegerType(), True)])\n",
    "\n",
    "\n",
    "    # Load the datasets with the specified schemas\n",
    "    if not skip:\n",
    "        df = spark.read.csv(\"cleaned-dataset-csv/cleaned_*.csv\", \n",
    "                            header=False, \n",
    "                            schema=schema_data)\n",
    "        movie_titles = spark.read.csv(movie_titles_path, \n",
    "                                      schema=schema_movies)\n",
    "\n",
    "\n",
    "    # Specify alias for the DataFrames to facilitate a join\n",
    "    df = df.alias(\"df\")\n",
    "    movie_titles = movie_titles.alias(\"movie_titles\")\n",
    "\n",
    "    # Join the two DataFrames on MovieID. Select only columns of interest\n",
    "    df = df.join(movie_titles,\n",
    "                 df.MovieID == movie_titles.MovieID,\n",
    "                 \"left\").select(\"df.*\", \"movie_titles.YearOfRelease\")\n",
    "    \n",
    "    # Shuffle the data\n",
    "    df = df.orderBy(rand())\n",
    "\n",
    "    # Write to Parquet\n",
    "    if not skip:\n",
    "        df.write.parquet(output_data_parquet)\n",
    "    \n",
    "    # Stop SparkContext\n",
    "    sc.stop()"
   ]
  },
  {
   "cell_type": "code",
   "execution_count": null,
   "id": "927d3779",
   "metadata": {},
   "outputs": [],
   "source": [
    "# Uncomment cell to run the convert_parquet.py script\n",
    "#!python3 convert_parquet.py"
   ]
  },
  {
   "cell_type": "markdown",
   "id": "545a5387-0933-4208-b326-8aa4cad06eb4",
   "metadata": {},
   "source": [
    "<br><br><br><br>\n",
    "\n",
    "\n",
    "\n",
    "<a name=\"initial_eda\"></a>\n",
    "\n",
    "\n",
    "## [Initial Exploratory Data Analysis](#top)\n",
    "\n",
    "Now when the data has gone through some initial preparation and convertion we can take a closer look at it. Start by initiating a SparkContext and SparkSession. To deal with potential memory issues during later model training on the full dataset, the following settings in the `spark-default.conf` file will help mitigate those. \n",
    "\n",
    "\n",
    "```conf\n",
    "spark.executor.JavaOptions -XX:+UseG1GC\n",
    "spark.executor.extraJavaOptions -XX:ConcGCThreads=20 -XX:InitiatingHeapOcuupancyPercent=35\n",
    "spark.driver.memory 15g\n",
    "spark.sql.autoBroadcastJoinThreshold -1\n",
    "spark.storage.memoryFraction 0.75\n",
    "```\n",
    "\n",
    "<a name=\"data_path\"></a>\n"
   ]
  },
  {
   "cell_type": "code",
   "execution_count": 4,
   "id": "83cc7bf5-2795-4cee-af18-c52fbba569ff",
   "metadata": {},
   "outputs": [],
   "source": [
    "# Specify data path\n",
    "data_path = \"data-parquet/part-0*.parquet\"\n",
    "\n",
    "# Initiate SparkContext and SparkSession\n",
    "try:\n",
    "    conf = SparkConf().setMaster(\"local[*]\")\n",
    "    sc = SparkContext.getOrCreate(conf)\n",
    "    spark = SparkSession.builder.master(\"local\").getOrCreate()\n",
    "    spark.sparkContext.setLogLevel(\"ERROR\")\n",
    "except:\n",
    "    print(\"SparkContext already running?\")"
   ]
  },
  {
   "cell_type": "code",
   "execution_count": 3,
   "id": "96463d86-1151-442e-9a48-44b905322b7c",
   "metadata": {},
   "outputs": [
    {
     "name": "stdout",
     "output_type": "stream",
     "text": [
      "+-------+----------+------+----------+-------------+\n",
      "|MovieID|CustomerID|Rating|RatingDate|YearOfRelease|\n",
      "+-------+----------+------+----------+-------------+\n",
      "|  11607|   2018894|   5.0|2005-05-31|         2005|\n",
      "|  14590|   1427512|   5.0|2000-04-29|         1995|\n",
      "|    330|   2510262|   3.0|2003-03-23|         1998|\n",
      "|  14574|    782212|   3.0|2005-09-02|         1998|\n",
      "|  14858|    121218|   3.0|2005-05-22|         1995|\n",
      "+-------+----------+------+----------+-------------+\n",
      "only showing top 5 rows\n",
      "\n"
     ]
    },
    {
     "name": "stderr",
     "output_type": "stream",
     "text": [
      "\r",
      "[Stage 2:>                                                          (0 + 1) / 1]\r",
      "\r",
      "                                                                                \r"
     ]
    }
   ],
   "source": [
    "# Load and display the first five rows of the data\n",
    "df = spark.read.parquet(data_path)\n",
    "df.show(5)"
   ]
  },
  {
   "cell_type": "code",
   "execution_count": 4,
   "id": "7f2a8e62-3f75-4e45-86ba-2610c5944efb",
   "metadata": {},
   "outputs": [
    {
     "name": "stdout",
     "output_type": "stream",
     "text": [
      "root\n",
      " |-- MovieID: integer (nullable = true)\n",
      " |-- CustomerID: integer (nullable = true)\n",
      " |-- Rating: float (nullable = true)\n",
      " |-- RatingDate: date (nullable = true)\n",
      " |-- YearOfRelease: integer (nullable = true)\n",
      "\n"
     ]
    }
   ],
   "source": [
    "# Verify that the data types are as expected\n",
    "df.printSchema()"
   ]
  },
  {
   "cell_type": "code",
   "execution_count": 89,
   "id": "8b66b813-f810-42e5-a0f5-a4314fbcb3e1",
   "metadata": {},
   "outputs": [
    {
     "name": "stderr",
     "output_type": "stream",
     "text": [
      "[Stage 2:====================================================>     (9 + 1) / 10]\r"
     ]
    },
    {
     "name": "stdout",
     "output_type": "stream",
     "text": [
      "+-------+-----------------+------------------+------------------+------------------+\n",
      "|summary|MovieID          |CustomerID        |Rating            |YearOfRelease     |\n",
      "+-------+-----------------+------------------+------------------+------------------+\n",
      "|count  |100480507        |100480507         |100480507         |100479542         |\n",
      "|mean   |9070.914762472286|1322488.5067232791|3.604289964420661 |1993.9115270947393|\n",
      "|stddev |5131.890697186413|764536.8002745779 |1.0852185646295627|12.400832155509613|\n",
      "|min    |1                |6                 |1.0               |1896              |\n",
      "|25%    |4677             |661149            |3.0               |1990              |\n",
      "|50%    |9051             |1318979           |4.0               |1998              |\n",
      "|75%    |13636            |1984445           |4.0               |2002              |\n",
      "|max    |17770            |2649429           |5.0               |2005              |\n",
      "+-------+-----------------+------------------+------------------+------------------+\n",
      "\n"
     ]
    },
    {
     "name": "stderr",
     "output_type": "stream",
     "text": [
      "                                                                                \r"
     ]
    }
   ],
   "source": [
    "# Display a summary over the dataset\n",
    "df.summary().show(truncate=False)"
   ]
  },
  {
   "cell_type": "markdown",
   "id": "38a5a959",
   "metadata": {},
   "source": [
    "We can verify that we have around 100 million ratings in the range [1-5] and that each column has the expected data type. The following can also be noted:\n",
    "\n",
    "- There are 17770 unique movies\n",
    "- Over 2.6 million unique customers\n",
    "- The oldest movie was released in 1896, while the most recent in 2005\n",
    "- There are some missing values in the `YearOfRelease` column\n",
    "\n",
    "\n",
    "While we will do a more thorough visulisation of the dataset efter engineering more features, we can already now remove missing values. "
   ]
  },
  {
   "cell_type": "code",
   "execution_count": 5,
   "id": "78982ca8-e6ea-4af7-b663-e220c3f5127c",
   "metadata": {},
   "outputs": [],
   "source": [
    "# Drop rows with NULL values\n",
    "df = df.dropna(how=\"any\")"
   ]
  },
  {
   "cell_type": "code",
   "execution_count": 15,
   "id": "61bd3fcb-4660-4529-a1bb-81dffaa8d17e",
   "metadata": {},
   "outputs": [
    {
     "name": "stderr",
     "output_type": "stream",
     "text": [
      "\r",
      "[Stage 17:===========================================>              (3 + 1) / 4]\r"
     ]
    },
    {
     "name": "stdout",
     "output_type": "stream",
     "text": [
      "+-------+----------+------+----------+-------------+----------+-----------+------------------+-----------+-------------+----------------+\n",
      "|MovieID|CustomerID|Rating|RatingDate|YearOfRelease|RatingYear|RatingMonth|Diff_RatingRelease|Diff_binned|HashedMovieID|HashedCustomerID|\n",
      "+-------+----------+------+----------+-------------+----------+-----------+------------------+-----------+-------------+----------------+\n",
      "+-------+----------+------+----------+-------------+----------+-----------+------------------+-----------+-------------+----------------+\n",
      "\n"
     ]
    },
    {
     "name": "stderr",
     "output_type": "stream",
     "text": [
      "\r",
      "                                                                                \r"
     ]
    }
   ],
   "source": [
    "# filter on NULL values to confirm there are no left\n",
    "df.filter(\" is NULL OR \".join(df.columns) + \" is NULL\").show()"
   ]
  },
  {
   "cell_type": "markdown",
   "id": "5e62d02b",
   "metadata": {},
   "source": [
    "It's confirmed - there are no `NULL` values left.\n",
    "\n",
    "\n",
    "<br>\n",
    "\n",
    "<a name=\"FE\"></a>\n",
    "\n",
    "\n",
    "## [Feature Engineering](#top)\n",
    "\n",
    "We will do some simple feature engineering by extracting year and month from the `RatingDate` column as well as calculating the difference in years between that column and the `YearOfRelease` column. Perhaps knowing when the rating was given and its relation to the release date might better help us determine what rating was given by a specific user. We should also make sure to convert the columns to adequate data types using the `.cast()` method. \n",
    "\n",
    "Engineering the difference, `Diff_RatingRelease`, is the trickiest and needs some extra work. "
   ]
  },
  {
   "cell_type": "code",
   "execution_count": 6,
   "id": "19139a05-6873-4e62-821b-e69b0d715118",
   "metadata": {},
   "outputs": [
    {
     "name": "stdout",
     "output_type": "stream",
     "text": [
      "+-------+----------+------+----------+-------------+----------+-----------+------------------+\n",
      "|MovieID|CustomerID|Rating|RatingDate|YearOfRelease|RatingYear|RatingMonth|Diff_RatingRelease|\n",
      "+-------+----------+------+----------+-------------+----------+-----------+------------------+\n",
      "|  11607|   2018894|   5.0|2005-05-31|         2005|      2005|          5|               0.0|\n",
      "|  14590|   1427512|   5.0|2000-04-29|         1995|      2000|          4|               5.0|\n",
      "|    330|   2510262|   3.0|2003-03-23|         1998|      2003|          3|               5.0|\n",
      "|  14574|    782212|   3.0|2005-09-02|         1998|      2005|          9|               8.0|\n",
      "|  14858|    121218|   3.0|2005-05-22|         1995|      2005|          5|              10.0|\n",
      "+-------+----------+------+----------+-------------+----------+-----------+------------------+\n",
      "only showing top 5 rows\n",
      "\n"
     ]
    }
   ],
   "source": [
    "# Create new columns RatingYear, RatingMonth and Diff_RatingRelease\n",
    "df = df.withColumn(\"RatingYear\", date_format(df.RatingDate, \"yyyy\").cast(IntegerType())) \\\n",
    "       .withColumn(\"RatingMonth\", date_format(df.RatingDate, \"M\").cast(IntegerType())) \\\n",
    "       .withColumn(\"Diff_RatingRelease\", \n",
    "                   spark_round(datediff(df.RatingDate, \n",
    "                            to_date(df.YearOfRelease.cast(\"string\"), \n",
    "                                    \"yyyy\"))/365.25, 0)\n",
    "                  )\n",
    "\n",
    "df.show(5)"
   ]
  },
  {
   "cell_type": "markdown",
   "id": "aae43c20-5f46-48ea-a92f-7bf3f7068a30",
   "metadata": {},
   "source": [
    "Furthermore, we can also bin the `Diff_ReleaseRating` column into `Diff_binned` to have fewer categories to deal with. I'm creating these bins rather arbitrary for now. Ideally however, we would bin in several different ways before training and evaluating these models to find the most suited bins for the problem. I will take a shortcut and bin in the following way though:\n",
    "\n",
    " \n",
    "| Values        | Bin                |\n",
    "|---------------|--------------------|\n",
    "| Negative      | -1                 |\n",
    "| 1 - 4.99      | 1, 2, 3, 4 and 5, respectively |\n",
    "| 5 - 9.99      | 5                  |\n",
    "| 10 - 49.99    | 10                 |\n",
    "| 50 and above  | 50                 |\n",
    "\n",
    "<br>\n",
    "\n",
    "The process for that is displayed below, with the function `bin_diff` deciding what thresholds to bin on. "
   ]
  },
  {
   "cell_type": "code",
   "execution_count": 10,
   "id": "0b25a08e-2a64-4780-8f1a-26a83c1aff8a",
   "metadata": {},
   "outputs": [],
   "source": [
    "@udf\n",
    "def bin_diff(x):\n",
    "    \"\"\" Function for binning a value x. \"\"\"\n",
    "    if x is not None:\n",
    "        if x < 0:\n",
    "            return -1\n",
    "        if x < 5:\n",
    "            return x\n",
    "        elif x < 10:\n",
    "            return 5\n",
    "        elif x < 50:\n",
    "            return 10\n",
    "        else:\n",
    "            return 50\n",
    "    else:\n",
    "        return 0"
   ]
  },
  {
   "cell_type": "code",
   "execution_count": 11,
   "id": "1293abc5-9699-4b1b-85bb-a5ebb8fa0e8d",
   "metadata": {},
   "outputs": [
    {
     "name": "stdout",
     "output_type": "stream",
     "text": [
      "+-------+----------+------+----------+-------------+----------+-----------+------------------+-----------+\n",
      "|MovieID|CustomerID|Rating|RatingDate|YearOfRelease|RatingYear|RatingMonth|Diff_RatingRelease|Diff_binned|\n",
      "+-------+----------+------+----------+-------------+----------+-----------+------------------+-----------+\n",
      "|  11607|   2018894|   5.0|2005-05-31|         2005|      2005|          5|               0.0|          0|\n",
      "|  14590|   1427512|   5.0|2000-04-29|         1995|      2000|          4|               5.0|          5|\n",
      "|    330|   2510262|   3.0|2003-03-23|         1998|      2003|          3|               5.0|          5|\n",
      "|  14574|    782212|   3.0|2005-09-02|         1998|      2005|          9|               8.0|          5|\n",
      "|  14858|    121218|   3.0|2005-05-22|         1995|      2005|          5|              10.0|         10|\n",
      "+-------+----------+------+----------+-------------+----------+-----------+------------------+-----------+\n",
      "only showing top 5 rows\n",
      "\n"
     ]
    }
   ],
   "source": [
    "# Bin the Diff_RatingRelease column\n",
    "df = df.withColumn(\"Diff_binned\", bin_diff(\"Diff_RatingRelease\").cast(IntegerType()))\n",
    "df.show(5)"
   ]
  },
  {
   "cell_type": "markdown",
   "id": "3afa60a4-6ba5-4853-8528-58c1310876df",
   "metadata": {},
   "source": [
    "Moreover, we have some categorical variables that should be treated before moving forward. These are the nominal variables `MovieID` and `CustomerID`. Under current rank order representation, the `CustomerID` column will teach the estimator that, for example, the customer with `CustomerID` *1488844* is larger/bigger/worth more than the customer with `CustomerID` *822109*. Such bias is misleading and we need to address that. There are several options we can take here, such as one-hot encoding and bin-counting, but we will go with hashing as it's more straight forward and offers computational advantages. Spark's `FeatureHasher` is well suited for this.  \n",
    "\n",
    "We leave the ordinal variables `YearOfRelease`, `RatingYear` and `RatingsMonth` as is since they are sensitive to rank order. "
   ]
  },
  {
   "cell_type": "code",
   "execution_count": 12,
   "id": "d00df65e-7982-48f1-9184-5d1a79f3d1b7",
   "metadata": {},
   "outputs": [
    {
     "name": "stdout",
     "output_type": "stream",
     "text": [
      "+-------+----------+------+----------+-------------+----------+-----------+------------------+-----------+--------------------+--------------------+\n",
      "|MovieID|CustomerID|Rating|RatingDate|YearOfRelease|RatingYear|RatingMonth|Diff_RatingRelease|Diff_binned|       HashedMovieID|    HashedCustomerID|\n",
      "+-------+----------+------+----------+-------------+----------+-----------+------------------+-----------+--------------------+--------------------+\n",
      "|  11607|   2018894|   5.0|2005-05-31|         2005|      2005|          5|               0.0|          0|(262144,[138338],...|(262144,[211647],...|\n",
      "|  14590|   1427512|   5.0|2000-04-29|         1995|      2000|          4|               5.0|          5|(262144,[138338],...|(262144,[211647],...|\n",
      "|    330|   2510262|   3.0|2003-03-23|         1998|      2003|          3|               5.0|          5|(262144,[138338],...|(262144,[211647],...|\n",
      "|  14574|    782212|   3.0|2005-09-02|         1998|      2005|          9|               8.0|          5|(262144,[138338],...|(262144,[211647],...|\n",
      "|  14858|    121218|   3.0|2005-05-22|         1995|      2005|          5|              10.0|         10|(262144,[138338],...|(262144,[211647],...|\n",
      "+-------+----------+------+----------+-------------+----------+-----------+------------------+-----------+--------------------+--------------------+\n",
      "only showing top 5 rows\n",
      "\n"
     ]
    }
   ],
   "source": [
    "# Create two hashers to keep the columns apart\n",
    "hasherM = FeatureHasher().setInputCols([\"MovieID\"]) \\\n",
    "                        .setOutputCol(\"HashedMovieID\")\n",
    "hasherC = FeatureHasher().setInputCols([\"CustomerID\"]) \\\n",
    "                        .setOutputCol(\"HashedCustomerID\")\n",
    "\n",
    "# Apply the hashers on the dataset and display the resulting DataFrame\n",
    "df = hasherM.transform(df)\n",
    "df = hasherC.transform(df)\n",
    "df.show(5)"
   ]
  },
  {
   "cell_type": "markdown",
   "id": "62e932a1-ec50-41ca-b73f-f8326dbab254",
   "metadata": {},
   "source": [
    "Let's keep the target variable `Rating` as a float. This allow us to approach it as a regression rather than as a classification problem, with the advantage of providing us with the size of the error on each prediction. Besides, that was the approach in the competition.\n",
    "\n",
    "<a name=\"data_vis\"></a>\n",
    "\n",
    "\n",
    "## [Data Visualisation](#top)\n",
    "\n",
    "\n",
    "Plot the count for each of the columns to get a fair estimate of their distribution. The `MovieID` and `CustomerID` columns are truncated due to their large size and only display the lowest five (which each has `count=1`) and highest 100 counts. We also sort these columns on their counts to facilitate interpretation. No need to display the hashed columns as they are hard to interpret for the human eye anyway. "
   ]
  },
  {
   "cell_type": "code",
   "execution_count": 21,
   "id": "9291ba35-ae23-4053-b147-072c4233c749",
   "metadata": {},
   "outputs": [
    {
     "name": "stderr",
     "output_type": "stream",
     "text": [
      "                                                                                \r"
     ]
    },
    {
     "data": {
      "image/png": "[encoded data removed]",
      "text/plain": [
       "<Figure size 1440x1800 with 7 Axes>"
      ]
     },
     "metadata": {},
     "output_type": "display_data"
    }
   ],
   "source": [
    "# Select columns to plot\n",
    "cols_for_display = [\"MovieID\", \n",
    "                    \"CustomerID\", \n",
    "                    \"YearOfRelease\", \n",
    "                    \"Rating\", \n",
    "                    \"RatingYear\", \n",
    "                    \"RatingMonth\", \n",
    "                    \"Diff_binned\"\n",
    "                   ]\n",
    "\n",
    "plt.figure(figsize=(20, 25))\n",
    "for i, col in enumerate(cols_for_display, 1):\n",
    "    plt.subplot(4, 2, i)\n",
    "    \n",
    "    # Due to their large counts, prepare the ID columns different\n",
    "    if col in [\"CustomerID\", \"MovieID\"]:\n",
    "        counts = df.groupBy(col).count().orderBy(\"count\").toPandas()\n",
    "        cc = pd.concat([counts.head(), counts.tail(100)], ignore_index=True)\n",
    "        \n",
    "        sns.barplot(x=col, \n",
    "                    y=\"count\", \n",
    "                    data=cc, \n",
    "                    order=cc.sort_values(\"count\")[str(col)],\n",
    "                    palette=\"crest\")\n",
    "    else:\n",
    "        sns.barplot(x=col, \n",
    "                y=\"count\", \n",
    "                data=df.groupBy(col).count().toPandas(),\n",
    "                palette=\"crest\")\n",
    "      \n",
    "    # Specify labels, title and their size\n",
    "    plt.xlabel(col, size=14)\n",
    "    plt.ylabel(\"Count\", size=14)\n",
    "    plt.title(f\"{col} count\", size=18)\n",
    "    \n",
    "plt.subplots_adjust(hspace=0.3, wspace=0.25)"
   ]
  },
  {
   "cell_type": "markdown",
   "id": "e67f1a00",
   "metadata": {},
   "source": [
    "Among other things, we learn the following from above plot:\n",
    "\n",
    "- `MovieID` and `CustomerID` counts are highly skewed with some movies receiving many reviews and some customers giving many reviews. \n",
    "- Most movies are released recently. \n",
    "- Most movies have received a *3* or *4* in rating, but there are also many *5*s. *1*s are the rarest.\n",
    "- Most movies were rated in 2004 and 2005, with over 50% of the ratings in 2005. \n",
    "- August, September and October are the most popular months to rate a moive. February the least. \n",
    "- Few movies are rated close to their release date (`Diff_binned` = 0). A lot of movies are rated the year after their release or within five years thereafter. *The interpretation of this last plot depends of course a lot on how we binned the column before. And as previously stated, binning is something that should be experimented with for best result.* "
   ]
  },
  {
   "cell_type": "markdown",
   "id": "5162c52a-de42-44b2-85d2-9e7a0e87dda8",
   "metadata": {},
   "source": [
    "<a name=\"ml-modelling\"></a>\n",
    "\n",
    "## [Machine Learning modelling](#top)\n",
    "\n",
    "\n",
    "With a smaller dataset we would prefer to train and test many models using cross-validation. However, with over 100 million ratings, we can consider the data to be fairly large and will thus go with a more traditional train / test split. 80% of the data will be dedicated for training the model while 20% for testing it. Providing a `seed` will allow us to replicate the results."
   ]
  },
  {
   "cell_type": "code",
   "execution_count": 13,
   "id": "67ff56ca-2847-498e-91b1-6a155f7fe7ad",
   "metadata": {},
   "outputs": [],
   "source": [
    "# Split into train and test sets\n",
    "splits = df.randomSplit([0.8, 0.2], seed=747)\n",
    "df_train = splits[0]\n",
    "df_test = splits[1]"
   ]
  },
  {
   "cell_type": "code",
   "execution_count": 14,
   "id": "7885169b",
   "metadata": {},
   "outputs": [
    {
     "name": "stderr",
     "output_type": "stream",
     "text": [
      "\r",
      "[Stage 8:>                                                          (0 + 1) / 1]\r"
     ]
    },
    {
     "name": "stdout",
     "output_type": "stream",
     "text": [
      "+-------+----------+------+----------+-------------+----------+-----------+------------------+-----------+--------------------+--------------------+\n",
      "|MovieID|CustomerID|Rating|RatingDate|YearOfRelease|RatingYear|RatingMonth|Diff_RatingRelease|Diff_binned|       HashedMovieID|    HashedCustomerID|\n",
      "+-------+----------+------+----------+-------------+----------+-----------+------------------+-----------+--------------------+--------------------+\n",
      "|      1|     13651|   3.0|2004-06-16|         2003|      2004|          6|               1.0|          1|(262144,[138338],...|(262144,[211647],...|\n",
      "|      1|     14924|   5.0|2005-10-04|         2003|      2005|         10|               3.0|          3|(262144,[138338],...|(262144,[211647],...|\n",
      "|      1|    145873|   3.0|2004-02-25|         2003|      2004|          2|               1.0|          1|(262144,[138338],...|(262144,[211647],...|\n",
      "|      1|    188613|   4.0|2005-09-15|         2003|      2005|          9|               3.0|          3|(262144,[138338],...|(262144,[211647],...|\n",
      "|      1|    230112|   3.0|2004-08-26|         2003|      2004|          8|               2.0|          2|(262144,[138338],...|(262144,[211647],...|\n",
      "+-------+----------+------+----------+-------------+----------+-----------+------------------+-----------+--------------------+--------------------+\n",
      "only showing top 5 rows\n",
      "\n"
     ]
    },
    {
     "name": "stderr",
     "output_type": "stream",
     "text": [
      "\r",
      "                                                                                \r"
     ]
    }
   ],
   "source": [
    "# Display the first five rows on the train set\n",
    "df_train.show(5)"
   ]
  },
  {
   "cell_type": "markdown",
   "id": "108d3465",
   "metadata": {},
   "source": [
    "Specify target variable and features for modelling. Root Mean Squared Error (RMSE) will be used for evaluating the performance of the model. "
   ]
  },
  {
   "cell_type": "code",
   "execution_count": 15,
   "id": "04707894-a6c9-447e-9ecf-4090b4f57014",
   "metadata": {},
   "outputs": [],
   "source": [
    "# Specify target variable\n",
    "target = StringIndexer(inputCol=\"Rating\", \n",
    "                       outputCol=\"label\")\n",
    "\n",
    "# Specify features\n",
    "input_cols = [\"YearOfRelease\", \n",
    "              \"MovieID\", \n",
    "              \"CustomerID\",\n",
    "              \"RatingYear\", \n",
    "              \"RatingMonth\", \n",
    "              \"Diff_binned\"]\n",
    "featureAssembler = VectorAssembler(inputCols=input_cols, \n",
    "                                   outputCol=\"features\")\n",
    "\n",
    "# Specify evaluator with the default RMSE as metric\n",
    "evaluator = RegressionEvaluator(metricName=\"rmse\", \n",
    "                                predictionCol=\"prediction\", \n",
    "                                labelCol=\"label\")"
   ]
  },
  {
   "cell_type": "markdown",
   "id": "d3554735-3fa6-43ad-a453-01975f8751ed",
   "metadata": {},
   "source": [
    "<a name=\"baseline\"></a>\n",
    "\n",
    "\n",
    "### [Get baseline results with Linear Regression](#top)\n",
    "\n",
    "To have something to compare with, we will train and evaluate one of the more simplistic algorithms on the data; Linear Regression, using its default parameters. \n",
    "\n",
    "Note that we do this on a smaller fraction of the data to speed things up (file `part-00000*.parquet`, which is around 2.5 million reviews). You can load it by changing the `data_path` [above](#data_path). \n",
    "\n",
    "```python\n",
    "# Specify data path\n",
    "data_path = \"data-parquet/part-00000*.parquet\"\n",
    "```"
   ]
  },
  {
   "cell_type": "code",
   "execution_count": 14,
   "id": "9afb02fe-87ce-4e74-abbc-f836753d4197",
   "metadata": {},
   "outputs": [
    {
     "name": "stderr",
     "output_type": "stream",
     "text": [
      "[Stage 16:================================================>         (5 + 1) / 6]\r"
     ]
    },
    {
     "name": "stdout",
     "output_type": "stream",
     "text": [
      "CPU times: user 24.6 ms, sys: 8.59 ms, total: 33.2 ms\n",
      "Wall time: 34.7 s\n"
     ]
    },
    {
     "name": "stderr",
     "output_type": "stream",
     "text": [
      "\r",
      "                                                                                \r"
     ]
    }
   ],
   "source": [
    "%%time\n",
    "\n",
    "# Instantiate a Linear regression model with default parameters\n",
    "lr = LinearRegression()\n",
    "\n",
    "# Put everything in a Pipeline\n",
    "pipeline = Pipeline(stages=[target, featureAssembler, lr])\n",
    "\n",
    "# Train the model\n",
    "baseline = pipeline.fit(df_train)"
   ]
  },
  {
   "cell_type": "code",
   "execution_count": 16,
   "id": "3b14c146-1607-4b29-b9ac-c59a555b095a",
   "metadata": {},
   "outputs": [],
   "source": [
    "def evaluate_model(model, trainSet, testSet):\n",
    "    \"\"\" Function for evaluating a model on a train and test set\"\"\"\n",
    "    \n",
    "    # Evaluate model on train set\n",
    "    pred_train = model.transform(trainSet)\n",
    "    rmse_train = evaluator.evaluate(pred_train, {evaluator.metricName: \"rmse\"})\n",
    "\n",
    "    # Evaluate model on test set\n",
    "    pred_test = model.transform(testSet)\n",
    "    rmse_test = evaluator.evaluate(pred_test, {evaluator.metricName: \"rmse\"})\n",
    "    \n",
    "    # Display results\n",
    "    time.sleep(1)\n",
    "    print(f\"RMSE train set: {rmse_train:.5f}\")\n",
    "    print(f\"RMSE test set:  {rmse_test:.5f}\")\n",
    "    \n",
    "    return rmse_train, rmse_test"
   ]
  },
  {
   "cell_type": "code",
   "execution_count": 16,
   "id": "250f73bf-35a5-42e3-acb7-bc3a1ebff58c",
   "metadata": {},
   "outputs": [
    {
     "name": "stderr",
     "output_type": "stream",
     "text": [
      "                                                                                \r"
     ]
    },
    {
     "name": "stdout",
     "output_type": "stream",
     "text": [
      "RMSE train set: 1.15156\n",
      "RMSE test set:  1.15247\n"
     ]
    }
   ],
   "source": [
    "# Evaluate baseline model\n",
    "rmse_train, rmse_test = evaluate_model(baseline, df_train, df_test)"
   ]
  },
  {
   "cell_type": "markdown",
   "id": "ef7509e9-1cd9-4d0c-8302-fdd5dcf19601",
   "metadata": {},
   "source": [
    "A baseline of 1.152 is achieved on the test set. There's practically no difference between the train and test sets, which means variance is low. \n",
    "\n",
    "> After evaluating a model using the original `CustomerID` and `MovieID` features instead of the hashed alternatives, `HashedCustomerID` and `HashedMovieID`, I found practically no differences between the two. I will thus go with the original features, and you will simply have to take my words for it. :)\n",
    "\n",
    "\n",
    "<a name=\"regressors\"></a>\n",
    "\n",
    "\n",
    "### [Tune and Evaluate Multiple Regressors](#top)\n",
    "\n",
    "\n",
    "In order to find the best model for the problem, we will evaluate several standard algorithms. Train, tune and evaluate Decision Trees, Random Forest, Gradient-Boosted Trees and Linear Regressors on the dataset. "
   ]
  },
  {
   "cell_type": "code",
   "execution_count": 17,
   "id": "90a6365d-b4b8-4e87-aaaf-2c5dbe1f2238",
   "metadata": {},
   "outputs": [
    {
     "name": "stdout",
     "output_type": "stream",
     "text": [
      "\n",
      "Tuning DecisionTreeRegressor\n"
     ]
    },
    {
     "name": "stderr",
     "output_type": "stream",
     "text": [
      "                                                                                \r"
     ]
    },
    {
     "name": "stdout",
     "output_type": "stream",
     "text": [
      "RMSE train set: 1.14973\n",
      "RMSE test set:  1.15098\n",
      "\n",
      "Tuning RandomForestRegressor\n"
     ]
    },
    {
     "name": "stderr",
     "output_type": "stream",
     "text": [
      "                                                                                \r"
     ]
    },
    {
     "name": "stdout",
     "output_type": "stream",
     "text": [
      "RMSE train set: 1.15065\n",
      "RMSE test set:  1.15171\n",
      "\n",
      "Tuning GBTRegressor\n"
     ]
    },
    {
     "name": "stderr",
     "output_type": "stream",
     "text": [
      "                                                                                \r"
     ]
    },
    {
     "name": "stdout",
     "output_type": "stream",
     "text": [
      "RMSE train set: 1.14881\n",
      "RMSE test set:  1.15005\n",
      "\n",
      "Tuning LinearRegression\n"
     ]
    },
    {
     "name": "stderr",
     "output_type": "stream",
     "text": [
      "                                                                                \r"
     ]
    },
    {
     "name": "stdout",
     "output_type": "stream",
     "text": [
      "RMSE train set: 1.15156\n",
      "RMSE test set:  1.15247\n",
      "CPU times: user 2.29 s, sys: 897 ms, total: 3.18 s\n",
      "Wall time: 10min 56s\n"
     ]
    }
   ],
   "source": [
    "%%time\n",
    "\n",
    "# Specify regressors to evaluate\n",
    "dt = DecisionTreeRegressor()\n",
    "rf = RandomForestRegressor()\n",
    "gb = GBTRegressor()\n",
    "lr = LinearRegression()\n",
    "\n",
    "regressors = [{\"regressor\": dt,\n",
    "               \"paramGrid\": ParamGridBuilder().addGrid(dt.maxBins, [16, 32]) \\\n",
    "                                              .addGrid(dt.maxDepth, [3, 5, 7]) \\\n",
    "                                              .build()},\n",
    "              {\"regressor\": rf,\n",
    "               \"paramGrid\": ParamGridBuilder().addGrid(rf.numTrees, [20, 40, 60]) \\\n",
    "                                              .addGrid(rf.maxDepth, [3, 5]) \\\n",
    "                                              .build()},\n",
    "              {\"regressor\": gb,\n",
    "               \"paramGrid\": ParamGridBuilder().addGrid(gb.subsamplingRate, [1.0, 0.7]) \\\n",
    "                                              .addGrid(gb.maxDepth, [3, 5]) \\\n",
    "                                              .build()},\n",
    "              {\"regressor\": lr,\n",
    "               \"paramGrid\": ParamGridBuilder().addGrid(lr.maxIter, [100, 1000]) \\\n",
    "                                              .addGrid(lr.regParam, [0.0, 0.01, 0.1]) \\\n",
    "                                              .addGrid(lr.elasticNetParam, [0.0, 0.5, 1.0]) \\\n",
    "                                              .build()}\n",
    "             ]\n",
    "\n",
    "results = {}\n",
    "for regressor in regressors:\n",
    "    name = str(regressor[\"regressor\"]).split(\"_\")[0]\n",
    "    print(f\"\\nTuning {name}\")\n",
    "    \n",
    "    # Create Pipeline\n",
    "    pipeline = Pipeline(stages=[target, featureAssembler, regressor[\"regressor\"]])\n",
    "    \n",
    "    # Specify model training specs\n",
    "    tvs = TrainValidationSplit(estimator=pipeline, \n",
    "                               estimatorParamMaps=regressor[\"paramGrid\"], \n",
    "                               evaluator=evaluator,\n",
    "                               trainRatio=0.75,\n",
    "                               parallelism=8, \n",
    "                               seed=72)\n",
    "    \n",
    "    # Train model\n",
    "    model = tvs.fit(df_train)\n",
    "    \n",
    "    # Evaluate model\n",
    "    rmse_train, rmse_test = evaluate_model(model, df_train, df_test)\n",
    "    \n",
    "    # Store the results\n",
    "    results[name] = {\"model\": model,\n",
    "                     \"rmse_train\": rmse_train,\n",
    "                     \"rmse_test\": rmse_test}"
   ]
  },
  {
   "cell_type": "markdown",
   "id": "c241bd4d",
   "metadata": {},
   "source": [
    "Although with a very small margin, the Gradient-Boosted Tree Regressor (GBTRegressor) is the most performant model on the test data. Let's extract the best parameters and train it on the entire dataset. "
   ]
  },
  {
   "cell_type": "code",
   "execution_count": 20,
   "id": "2496f533",
   "metadata": {},
   "outputs": [
    {
     "name": "stdout",
     "output_type": "stream",
     "text": [
      "maxDepth:         5\n",
      "subSamplingsRate: 0.7\n"
     ]
    }
   ],
   "source": [
    "# Get the best GBTR parameters\n",
    "best_gbtr = results[\"GBTRegressor\"][\"model\"].bestModel\n",
    "maxDepth = best_gbtr.stages[-1]._java_obj.getMaxDepth()\n",
    "subSamplingsRate = best_gbtr.stages[-1]._java_obj.getSubsamplingRate()\n",
    "\n",
    "print(\"maxDepth:        \", maxDepth)\n",
    "print(\"subSamplingsRate:\", subSamplingsRate)"
   ]
  },
  {
   "cell_type": "markdown",
   "id": "d267773c-b19e-4c2e-9086-2c72ee8cd59f",
   "metadata": {},
   "source": [
    "\n",
    "<a name=\"best_model\"></a>\n",
    "\n",
    "\n",
    "## [Train the Best GBTRegressor on the Full Dataset](#top)\n",
    "\n",
    "\n",
    "Train the GBTRegressor on the entire dataset using the best parameters. Load the entire dataset by updating [above](#data_path) code to the following:  \n",
    "\n",
    "\n",
    "```python\n",
    "# Specify data path\n",
    "data_path = \"data-parquet/part-0*.parquet\"\n",
    "```"
   ]
  },
  {
   "cell_type": "code",
   "execution_count": 17,
   "id": "a54856d1-cbbe-49b2-a963-101250c7a7b7",
   "metadata": {},
   "outputs": [
    {
     "name": "stderr",
     "output_type": "stream",
     "text": [
      "                                                                                \r"
     ]
    },
    {
     "name": "stdout",
     "output_type": "stream",
     "text": [
      "CPU times: user 1.31 s, sys: 1.54 s, total: 2.85 s\n",
      "Wall time: 1h 25min 23s\n"
     ]
    }
   ],
   "source": [
    "%%time\n",
    "\n",
    "# Specify model parameters from previous step\n",
    "gb_best = GBTRegressor(maxDepth=5,\n",
    "                       subsamplingRate=0.7)\n",
    "\n",
    "# Put everything in a Pipeline\n",
    "pipeline = Pipeline(stages=[target, featureAssembler, gb_best])\n",
    "\n",
    "# Train model\n",
    "final_model = pipeline.fit(df_train)"
   ]
  },
  {
   "cell_type": "code",
   "execution_count": 18,
   "id": "6447d30f-9cfe-4c88-a387-0c101192701b",
   "metadata": {},
   "outputs": [
    {
     "name": "stderr",
     "output_type": "stream",
     "text": [
      "                                                                                \r"
     ]
    },
    {
     "name": "stdout",
     "output_type": "stream",
     "text": [
      "RMSE train set: 1.14898\n",
      "RMSE test set:  1.14893\n"
     ]
    }
   ],
   "source": [
    "# Evaluate the model\n",
    "best_rmse_train_, best_rmse_test = evaluate_model(final_model, df_train, df_test)"
   ]
  },
  {
   "cell_type": "markdown",
   "id": "a4533b97",
   "metadata": {},
   "source": [
    "We have a final score of 1.149 on the test set. It's barely better than the 1.152 baseline though, and significantly worse than the 0.8572 the team who won the challenge in 2009 got. \n",
    "\n",
    "Let's further explore which of the features are most important for the model to make its predicitons. \n",
    "\n",
    "<a name=\"feature_importance\"></a>\n",
    "\n",
    "\n",
    "## [Which Features are most Important?](#top)\n",
    "\n",
    "The most important features are `YearOfRelease`, `MovieID` and `RatingMonth`, contributing 37, 27 and 20%, respectively, as displayed in the plot below. The difference between the release and rating year, `Diff_binned` contributes a meek 3% to the overall, while `CustomerID` less than 1 percent. \n",
    "\n",
    "This means that it matters little *who* rated the movie and far more *which* movie it is. This is reasonable as one would expect that most people would rate a good movie as good and a bad one as bad. \n",
    "\n",
    "However, that the release year matters this much is quite surprising. We would need to dig deeper into the data to find out why this may be the case. We won't do that here, but can speculate that, perhaps, older movies are held to newer standards, and since all ratings are from 1999 and later, while some movies are 100 years older than that, their ratings might be biased by this. Who hasn't re-watched a favourite movie from childhood and found it awful at later years? Or perhaps, newer movies might simply be better than older? "
   ]
  },
  {
   "cell_type": "code",
   "execution_count": 19,
   "id": "a1088918",
   "metadata": {},
   "outputs": [
    {
     "data": {
      "image/png": "[encoded data removed]",
      "text/plain": [
       "<Figure size 720x360 with 1 Axes>"
      ]
     },
     "metadata": {},
     "output_type": "display_data"
    }
   ],
   "source": [
    "# Plot and rank the features in importance\n",
    "importance = pd.DataFrame(zip(final_model.stages[-1].featureImportances.toArray(), \n",
    "                              input_cols),\n",
    "                         columns=[\"Importance\", \"Feature\"])\n",
    "\n",
    "plt.figure(figsize=(10, 5))\n",
    "sns.barplot(x=\"Feature\",\n",
    "            y=\"Importance\", \n",
    "            data=importance,\n",
    "            order=importance.sort_values(\"Importance\", \n",
    "                                         ascending=False)[\"Feature\"])\n",
    "\n",
    "plt.xlabel(\"Feature\", size=16)\n",
    "plt.ylabel(\"Importance\", size=16)\n",
    "plt.title(\"Feature Importance\", size=18);"
   ]
  },
  {
   "cell_type": "markdown",
   "id": "5931ae47",
   "metadata": {},
   "source": [
    "<br>\n",
    "\n",
    "<a name=\"conclusions\"></a>\n",
    "\n",
    "## [Conclusions](#top)\n",
    "\n",
    "We've trained a few models on the 100 million ratings dataset obtained from the Netflix challenge back in 2009 using nothing but a laptop. Although the model performance isn't as good as what was attained by the winning teams (they [reportedly](https://netflixtechblog.com/netflix-recommendations-beyond-the-5-stars-part-1-55838468f429) spent 2,000 hours during the first year of the competition), we've been successful in training a fairly large dataset locally. This in less time than what it takes to return from an outdoor exercise session.\n",
    "\n",
    "A final score of 1.149 RMSE (interpreted as 1.149 points off, on average) was achieved while identifying release year, movie ID and rating month to be the most important features when predicting a movie's rating. This is not to say that other features wouldn't be important in making this prediction, but rather that out of the features available in the dataset, these are the most important. \n",
    "\n",
    "We only briefly covered feature engineering - the process of creating new features out of current or external data - but this is often an incredibly important aspect in machine learning with significant predictive benefits. Examples of engineered features can be the average rating per movie or year, or count/average of ratings per day and movie, number of days since a customer's first rating, and many more. "
   ]
  }
 ],
 "metadata": {
  "kernelspec": {
   "display_name": "Python 3 (ipykernel)",
   "language": "python",
   "name": "python3"
  },
  "language_info": {
   "codemirror_mode": {
    "name": "ipython",
    "version": 3
   },
   "file_extension": ".py",
   "mimetype": "text/x-python",
   "name": "python",
   "nbconvert_exporter": "python",
   "pygments_lexer": "ipython3",
   "version": "3.8.12"
  }
 },
 "nbformat": 4,
 "nbformat_minor": 5
}
