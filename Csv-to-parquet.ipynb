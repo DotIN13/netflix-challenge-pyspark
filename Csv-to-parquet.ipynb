{
 "cells": [
  {
   "cell_type": "markdown",
   "id": "3d5eb569-75b5-4bda-9d6f-db95b1048293",
   "metadata": {},
   "source": [
    "# Join, then convert a CSV file to Parquet using Spark\n",
    "\n",
    "This notebook will convert a CSV file to Parquet for compuational advantages later on. However, we will start by adding a `YearOfRelease` column to the original data by joining it with the file `movie_titles.csv`."
   ]
  },
  {
   "cell_type": "code",
   "execution_count": 4,
   "id": "8ec4b6a8-f036-4612-85f7-bb1fe70c123d",
   "metadata": {},
   "outputs": [],
   "source": [
    "from pyspark import SparkContext, SparkConf\n",
    "from pyspark.sql import SparkSession\n",
    "from pyspark.sql.types import StructType, StructField, IntegerType, DateType, StringType, FloatType\n",
    "from pyspark.sql.functions import rand\n",
    "\n",
    "import os"
   ]
  },
  {
   "cell_type": "code",
   "execution_count": 5,
   "id": "86d93ce8-a5cf-4f7a-b6ac-eba130f2067a",
   "metadata": {},
   "outputs": [],
   "source": [
    "# Input and output data paths\n",
    "data_csv = \"cleaned-dataset-csv/cleaned_*.csv\"\n",
    "movie_titles_path = \"netflix-dataset/movie_titles.csv\"\n",
    "output_data_parquet = \"data-parquet\""
   ]
  },
  {
   "cell_type": "code",
   "execution_count": 6,
   "id": "56465395-fba8-4165-a15e-b4306a52304f",
   "metadata": {},
   "outputs": [
    {
     "name": "stderr",
     "output_type": "stream",
     "text": [
      "22/01/31 13:17:03 WARN Utils: Your hostname, Jakobs-MBP.local resolves to a loopback address: 127.0.0.1; using 192.168.0.10 instead (on interface en0)\n",
      "22/01/31 13:17:03 WARN Utils: Set SPARK_LOCAL_IP if you need to bind to another address\n",
      "Using Spark's default log4j profile: org/apache/spark/log4j-defaults.properties\n",
      "Setting default log level to \"WARN\".\n",
      "To adjust logging level use sc.setLogLevel(newLevel). For SparkR, use setLogLevel(newLevel).\n",
      "22/01/31 13:17:33 WARN NativeCodeLoader: Unable to load native-hadoop library for your platform... using builtin-java classes where applicable\n",
      "22/01/31 13:17:34 WARN Utils: Service 'SparkUI' could not bind on port 4040. Attempting port 4041.\n"
     ]
    }
   ],
   "source": [
    "skip = False\n",
    "\n",
    "# If parquet file already exist, don't convert it. \n",
    "if os.path.exists(output_data_parquet):\n",
    "    skip = True\n",
    "    \n",
    "    \n",
    "if not skip:\n",
    "    # Initiate SparkContext if currently not running\n",
    "    try:\n",
    "        sc = SparkContext(appName=\"CSV to Parquet\")\n",
    "        spark = SparkSession.builder.master(\"local\").getOrCreate()\n",
    "    except: \n",
    "        pass"
   ]
  },
  {
   "cell_type": "markdown",
   "id": "261e50d6-6e32-4f1a-8611-755a32c6716c",
   "metadata": {},
   "source": [
    "Each one of the two datasets have different columns and data types. Following, we'll specify that. "
   ]
  },
  {
   "cell_type": "code",
   "execution_count": 7,
   "id": "656a8c34-bb50-4a2a-b77f-ddb95b57c10a",
   "metadata": {},
   "outputs": [],
   "source": [
    "# Specify name and data type for each column and dataFrame\n",
    "schema_data = StructType([\n",
    "    StructField(\"MovieID\", IntegerType(), True),\n",
    "    StructField(\"CustomerID\", IntegerType(), True),\n",
    "    StructField(\"Rating\", FloatType(), True),\n",
    "    StructField(\"RatingDate\", DateType(), True)])\n",
    "\n",
    "schema_movies = StructType([\n",
    "    StructField(\"MovieID\", IntegerType(), True),\n",
    "    StructField(\"YearOfRelease\", IntegerType(), True)])"
   ]
  },
  {
   "cell_type": "markdown",
   "id": "66fc9a1e-04b8-4e3f-a232-f9a4b49bb5a6",
   "metadata": {},
   "source": [
    "Using the schemas, we load the datasets into two different DataFrames. "
   ]
  },
  {
   "cell_type": "code",
   "execution_count": 8,
   "id": "77260a81-58c9-4c0b-8ca8-60b6660a6e58",
   "metadata": {},
   "outputs": [
    {
     "name": "stdout",
     "output_type": "stream",
     "text": [
      "+-------+-------------+\n",
      "|MovieID|YearOfRelease|\n",
      "+-------+-------------+\n",
      "|      1|         2003|\n",
      "|      2|         2004|\n",
      "|      3|         1997|\n",
      "|      4|         1994|\n",
      "|      5|         2004|\n",
      "+-------+-------------+\n",
      "only showing top 5 rows\n",
      "\n",
      "+-------+----------+------+----------+\n",
      "|MovieID|CustomerID|Rating|RatingDate|\n",
      "+-------+----------+------+----------+\n",
      "|      1|   1488844|   3.0|2005-09-06|\n",
      "|      1|    822109|   5.0|2005-05-13|\n",
      "|      1|    885013|   4.0|2005-10-19|\n",
      "|      1|     30878|   4.0|2005-12-26|\n",
      "|      1|    823519|   3.0|2004-05-03|\n",
      "+-------+----------+------+----------+\n",
      "only showing top 5 rows\n",
      "\n"
     ]
    }
   ],
   "source": [
    "# Load the datasets with the specified schemas\n",
    "if not skip:\n",
    "    df = spark.read.csv(\"cleaned-dataset-csv/cleaned_*.csv\", \n",
    "                        header=False, \n",
    "                        schema=schema_data)\n",
    "    movie_titles = spark.read.csv(movie_titles_path, \n",
    "                                  schema=schema_movies)\n",
    "    \n",
    "    movie_titles.show(5)\n",
    "    df.show(5)"
   ]
  },
  {
   "cell_type": "code",
   "execution_count": 70,
   "id": "133b0cd2-9101-4a03-9d88-0716f6c4eddf",
   "metadata": {},
   "outputs": [
    {
     "name": "stderr",
     "output_type": "stream",
     "text": [
      "[Stage 53:===============================================>        (17 + 3) / 20]\r"
     ]
    },
    {
     "name": "stdout",
     "output_type": "stream",
     "text": [
      "+------+---------+\n",
      "|Rating|    count|\n",
      "+------+---------+\n",
      "|   3.0| 28811247|\n",
      "|   5.0| 23168232|\n",
      "|   4.0| 33750958|\n",
      "|   1.0|  4617990|\n",
      "|  null|100480507|\n",
      "|   2.0| 10132080|\n",
      "+------+---------+\n",
      "\n"
     ]
    },
    {
     "name": "stderr",
     "output_type": "stream",
     "text": [
      "                                                                                \r"
     ]
    }
   ],
   "source": [
    "df.cube(\"Rating\").count().show()"
   ]
  },
  {
   "cell_type": "markdown",
   "id": "4ba5133d-6926-4a96-a3b2-e0ab0307a086",
   "metadata": {},
   "source": [
    "Let's now join the two dataframes and keep only the columns we are interested in - which are all columns in `df` but only `YearOfRelease` in `movie_titles`. We join them on the common column `MovieID`. In order to select only the columns we're interested in, we create an alias for each of the DataFrames. "
   ]
  },
  {
   "cell_type": "code",
   "execution_count": 9,
   "id": "1beff98e",
   "metadata": {},
   "outputs": [],
   "source": [
    "# Specify alias for the DataFrames\n",
    "df = df.alias(\"df\")\n",
    "movie_titles = movie_titles.alias(\"movie_titles\")\n",
    "\n",
    "# Join the two DataFrames on MovieID. Select only columns of interest\n",
    "df = df.join(movie_titles,\n",
    "             df.MovieID == movie_titles.MovieID,\n",
    "             \"left\").select(\"df.*\", \"movie_titles.YearOfRelease\")"
   ]
  },
  {
   "cell_type": "code",
   "execution_count": 10,
   "id": "e65e1322-1660-4d57-afb5-ce1d6b741269",
   "metadata": {},
   "outputs": [
    {
     "name": "stderr",
     "output_type": "stream",
     "text": [
      "[Stage 6:======================================================>  (19 + 1) / 20]\r"
     ]
    },
    {
     "name": "stdout",
     "output_type": "stream",
     "text": [
      "+-------+----------+------+----------+-------------+\n",
      "|MovieID|CustomerID|Rating|RatingDate|YearOfRelease|\n",
      "+-------+----------+------+----------+-------------+\n",
      "|   1367|    851525|   4.0|2005-10-31|         1993|\n",
      "|  12945|    697889|   5.0|2004-05-21|         2001|\n",
      "|   1435|    804335|   5.0|2003-06-23|         2001|\n",
      "|    607|   1266203|   4.0|2005-03-04|         1994|\n",
      "|   3958|   1257921|   4.0|2005-10-21|         2003|\n",
      "+-------+----------+------+----------+-------------+\n",
      "only showing top 5 rows\n",
      "\n"
     ]
    },
    {
     "name": "stderr",
     "output_type": "stream",
     "text": [
      "\r",
      "                                                                                \r"
     ]
    }
   ],
   "source": [
    "# Shuffle the data before displaying the top rows\n",
    "df = df.orderBy(rand())\n",
    "df.show(5)"
   ]
  },
  {
   "cell_type": "code",
   "execution_count": 11,
   "id": "85275d7b-ed8c-4e17-b3c7-fd0a83b74c59",
   "metadata": {},
   "outputs": [
    {
     "name": "stderr",
     "output_type": "stream",
     "text": [
      "                                                                                \r"
     ]
    },
    {
     "name": "stdout",
     "output_type": "stream",
     "text": [
      "CPU times: user 53.3 ms, sys: 25.3 ms, total: 78.6 ms\n",
      "Wall time: 1min 6s\n"
     ]
    }
   ],
   "source": [
    "%%time\n",
    "\n",
    "# Write to Parquet file\n",
    "if not skip:\n",
    "    df.write.parquet(output_data_parquet)"
   ]
  },
  {
   "cell_type": "markdown",
   "id": "4b247435-da4e-4f03-8050-dfb42f7e82e6",
   "metadata": {},
   "source": [
    "This went fast - let's confirm the files are there."
   ]
  },
  {
   "cell_type": "code",
   "execution_count": 12,
   "id": "4f477d1b-394c-46aa-8ac3-9909ee531742",
   "metadata": {},
   "outputs": [
    {
     "data": {
      "text/plain": [
       "['part-00012-d2c77d45-4888-4ff3-8a09-dee7a771837a-c000.snappy.parquet',\n",
       " 'part-00033-d2c77d45-4888-4ff3-8a09-dee7a771837a-c000.snappy.parquet',\n",
       " '.part-00032-d2c77d45-4888-4ff3-8a09-dee7a771837a-c000.snappy.parquet.crc',\n",
       " '.part-00011-d2c77d45-4888-4ff3-8a09-dee7a771837a-c000.snappy.parquet.crc',\n",
       " 'part-00038-d2c77d45-4888-4ff3-8a09-dee7a771837a-c000.snappy.parquet',\n",
       " '.part-00023-d2c77d45-4888-4ff3-8a09-dee7a771837a-c000.snappy.parquet.crc',\n",
       " 'part-00005-d2c77d45-4888-4ff3-8a09-dee7a771837a-c000.snappy.parquet',\n",
       " '.part-00000-d2c77d45-4888-4ff3-8a09-dee7a771837a-c000.snappy.parquet.crc',\n",
       " 'part-00024-d2c77d45-4888-4ff3-8a09-dee7a771837a-c000.snappy.parquet',\n",
       " 'part-00019-d2c77d45-4888-4ff3-8a09-dee7a771837a-c000.snappy.parquet',\n",
       " '.part-00020-d2c77d45-4888-4ff3-8a09-dee7a771837a-c000.snappy.parquet.crc',\n",
       " 'part-00015-d2c77d45-4888-4ff3-8a09-dee7a771837a-c000.snappy.parquet',\n",
       " '.part-00003-d2c77d45-4888-4ff3-8a09-dee7a771837a-c000.snappy.parquet.crc',\n",
       " '.DS_Store',\n",
       " 'part-00028-d2c77d45-4888-4ff3-8a09-dee7a771837a-c000.snappy.parquet',\n",
       " 'part-00009-d2c77d45-4888-4ff3-8a09-dee7a771837a-c000.snappy.parquet',\n",
       " 'part-00034-d2c77d45-4888-4ff3-8a09-dee7a771837a-c000.snappy.parquet',\n",
       " 'part-00002-d2c77d45-4888-4ff3-8a09-dee7a771837a-c000.snappy.parquet',\n",
       " '.part-00031-d2c77d45-4888-4ff3-8a09-dee7a771837a-c000.snappy.parquet.crc',\n",
       " 'part-00023-d2c77d45-4888-4ff3-8a09-dee7a771837a-c000.snappy.parquet',\n",
       " '.part-00012-d2c77d45-4888-4ff3-8a09-dee7a771837a-c000.snappy.parquet.crc',\n",
       " '.part-00024-d2c77d45-4888-4ff3-8a09-dee7a771837a-c000.snappy.parquet.crc',\n",
       " 'part-00014-d2c77d45-4888-4ff3-8a09-dee7a771837a-c000.snappy.parquet',\n",
       " '.part-00007-d2c77d45-4888-4ff3-8a09-dee7a771837a-c000.snappy.parquet.crc',\n",
       " 'part-00029-d2c77d45-4888-4ff3-8a09-dee7a771837a-c000.snappy.parquet',\n",
       " '.part-00039-d2c77d45-4888-4ff3-8a09-dee7a771837a-c000.snappy.parquet.crc',\n",
       " 'part-00008-d2c77d45-4888-4ff3-8a09-dee7a771837a-c000.snappy.parquet',\n",
       " '._SUCCESS.crc',\n",
       " 'part-00035-d2c77d45-4888-4ff3-8a09-dee7a771837a-c000.snappy.parquet',\n",
       " '.part-00028-d2c77d45-4888-4ff3-8a09-dee7a771837a-c000.snappy.parquet.crc',\n",
       " 'part-00003-d2c77d45-4888-4ff3-8a09-dee7a771837a-c000.snappy.parquet',\n",
       " '.part-00035-d2c77d45-4888-4ff3-8a09-dee7a771837a-c000.snappy.parquet.crc',\n",
       " 'part-00022-d2c77d45-4888-4ff3-8a09-dee7a771837a-c000.snappy.parquet',\n",
       " '.part-00016-d2c77d45-4888-4ff3-8a09-dee7a771837a-c000.snappy.parquet.crc',\n",
       " 'part-00013-d2c77d45-4888-4ff3-8a09-dee7a771837a-c000.snappy.parquet',\n",
       " '.part-00008-d2c77d45-4888-4ff3-8a09-dee7a771837a-c000.snappy.parquet.crc',\n",
       " 'part-00032-d2c77d45-4888-4ff3-8a09-dee7a771837a-c000.snappy.parquet',\n",
       " '.part-00036-d2c77d45-4888-4ff3-8a09-dee7a771837a-c000.snappy.parquet.crc',\n",
       " '.part-00015-d2c77d45-4888-4ff3-8a09-dee7a771837a-c000.snappy.parquet.crc',\n",
       " 'part-00039-d2c77d45-4888-4ff3-8a09-dee7a771837a-c000.snappy.parquet',\n",
       " '.part-00027-d2c77d45-4888-4ff3-8a09-dee7a771837a-c000.snappy.parquet.crc',\n",
       " 'part-00004-d2c77d45-4888-4ff3-8a09-dee7a771837a-c000.snappy.parquet',\n",
       " '.part-00004-d2c77d45-4888-4ff3-8a09-dee7a771837a-c000.snappy.parquet.crc',\n",
       " 'part-00025-d2c77d45-4888-4ff3-8a09-dee7a771837a-c000.snappy.parquet',\n",
       " '.part-00019-d2c77d45-4888-4ff3-8a09-dee7a771837a-c000.snappy.parquet.crc',\n",
       " 'part-00018-d2c77d45-4888-4ff3-8a09-dee7a771837a-c000.snappy.parquet',\n",
       " 'part-00016-d2c77d45-4888-4ff3-8a09-dee7a771837a-c000.snappy.parquet',\n",
       " '.part-00033-d2c77d45-4888-4ff3-8a09-dee7a771837a-c000.snappy.parquet.crc',\n",
       " '.part-00010-d2c77d45-4888-4ff3-8a09-dee7a771837a-c000.snappy.parquet.crc',\n",
       " 'part-00037-d2c77d45-4888-4ff3-8a09-dee7a771837a-c000.snappy.parquet',\n",
       " 'part-00001-d2c77d45-4888-4ff3-8a09-dee7a771837a-c000.snappy.parquet',\n",
       " '.part-00022-d2c77d45-4888-4ff3-8a09-dee7a771837a-c000.snappy.parquet.crc',\n",
       " '.part-00001-d2c77d45-4888-4ff3-8a09-dee7a771837a-c000.snappy.parquet.crc',\n",
       " 'part-00020-d2c77d45-4888-4ff3-8a09-dee7a771837a-c000.snappy.parquet',\n",
       " '.part-00021-d2c77d45-4888-4ff3-8a09-dee7a771837a-c000.snappy.parquet.crc',\n",
       " '.part-00002-d2c77d45-4888-4ff3-8a09-dee7a771837a-c000.snappy.parquet.crc',\n",
       " 'part-00011-d2c77d45-4888-4ff3-8a09-dee7a771837a-c000.snappy.parquet',\n",
       " 'part-00030-d2c77d45-4888-4ff3-8a09-dee7a771837a-c000.snappy.parquet',\n",
       " 'part-00006-d2c77d45-4888-4ff3-8a09-dee7a771837a-c000.snappy.parquet',\n",
       " 'part-00027-d2c77d45-4888-4ff3-8a09-dee7a771837a-c000.snappy.parquet',\n",
       " '.part-00030-d2c77d45-4888-4ff3-8a09-dee7a771837a-c000.snappy.parquet.crc',\n",
       " '.part-00013-d2c77d45-4888-4ff3-8a09-dee7a771837a-c000.snappy.parquet.crc',\n",
       " '.part-00025-d2c77d45-4888-4ff3-8a09-dee7a771837a-c000.snappy.parquet.crc',\n",
       " '.part-00006-d2c77d45-4888-4ff3-8a09-dee7a771837a-c000.snappy.parquet.crc',\n",
       " 'part-00010-d2c77d45-4888-4ff3-8a09-dee7a771837a-c000.snappy.parquet',\n",
       " '.part-00038-d2c77d45-4888-4ff3-8a09-dee7a771837a-c000.snappy.parquet.crc',\n",
       " '_SUCCESS',\n",
       " 'part-00031-d2c77d45-4888-4ff3-8a09-dee7a771837a-c000.snappy.parquet',\n",
       " '.part-00029-d2c77d45-4888-4ff3-8a09-dee7a771837a-c000.snappy.parquet.crc',\n",
       " 'part-00007-d2c77d45-4888-4ff3-8a09-dee7a771837a-c000.snappy.parquet',\n",
       " 'part-00026-d2c77d45-4888-4ff3-8a09-dee7a771837a-c000.snappy.parquet',\n",
       " '.part-00034-d2c77d45-4888-4ff3-8a09-dee7a771837a-c000.snappy.parquet.crc',\n",
       " '.part-00017-d2c77d45-4888-4ff3-8a09-dee7a771837a-c000.snappy.parquet.crc',\n",
       " 'part-00017-d2c77d45-4888-4ff3-8a09-dee7a771837a-c000.snappy.parquet',\n",
       " '.part-00009-d2c77d45-4888-4ff3-8a09-dee7a771837a-c000.snappy.parquet.crc',\n",
       " '.part-00037-d2c77d45-4888-4ff3-8a09-dee7a771837a-c000.snappy.parquet.crc',\n",
       " 'part-00036-d2c77d45-4888-4ff3-8a09-dee7a771837a-c000.snappy.parquet',\n",
       " '.part-00014-d2c77d45-4888-4ff3-8a09-dee7a771837a-c000.snappy.parquet.crc',\n",
       " '.part-00026-d2c77d45-4888-4ff3-8a09-dee7a771837a-c000.snappy.parquet.crc',\n",
       " 'part-00000-d2c77d45-4888-4ff3-8a09-dee7a771837a-c000.snappy.parquet',\n",
       " '.part-00005-d2c77d45-4888-4ff3-8a09-dee7a771837a-c000.snappy.parquet.crc',\n",
       " '.part-00018-d2c77d45-4888-4ff3-8a09-dee7a771837a-c000.snappy.parquet.crc',\n",
       " 'part-00021-d2c77d45-4888-4ff3-8a09-dee7a771837a-c000.snappy.parquet']"
      ]
     },
     "execution_count": 12,
     "metadata": {},
     "output_type": "execute_result"
    }
   ],
   "source": [
    "os.listdir(output_data_parquet)"
   ]
  },
  {
   "cell_type": "markdown",
   "id": "653dbef6",
   "metadata": {},
   "source": [
    "**Note for later**: Partitioning the DataFrame once created 40 parquet files instead of originally 20. This cut the final model training by up to 40 minutes. From originally 126min to 85min. "
   ]
  },
  {
   "cell_type": "code",
   "execution_count": null,
   "id": "75df35b1-1eda-46dd-b38f-14429559cd87",
   "metadata": {},
   "outputs": [],
   "source": []
  },
  {
   "cell_type": "code",
   "execution_count": null,
   "id": "a08c5ed2-b80a-4f20-b882-b08a3b49593e",
   "metadata": {},
   "outputs": [],
   "source": []
  },
  {
   "cell_type": "code",
   "execution_count": null,
   "id": "2fa30108-aaa1-4f6d-bd1f-5778c8eba3ac",
   "metadata": {},
   "outputs": [],
   "source": []
  }
 ],
 "metadata": {
  "kernelspec": {
   "display_name": "Python 3 (ipykernel)",
   "language": "python",
   "name": "python3"
  },
  "language_info": {
   "codemirror_mode": {
    "name": "ipython",
    "version": 3
   },
   "file_extension": ".py",
   "mimetype": "text/x-python",
   "name": "python",
   "nbconvert_exporter": "python",
   "pygments_lexer": "ipython3",
   "version": "3.8.12"
  }
 },
 "nbformat": 4,
 "nbformat_minor": 5
}
