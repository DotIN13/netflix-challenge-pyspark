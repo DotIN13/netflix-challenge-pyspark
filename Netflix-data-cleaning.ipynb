{
 "cells": [
  {
   "cell_type": "markdown",
   "id": "5e8987c2-dfde-4c89-ae4c-10f8c3c0fad7",
   "metadata": {},
   "source": [
    "# Initial data preparation\n",
    "\n",
    "This notebook loads the original `.txt` files, extracts `movieID` and adds a column for corresponding, before storing them in `.csv` format. "
   ]
  },
  {
   "cell_type": "code",
   "execution_count": 1,
   "id": "9afa4129-030c-41a0-aa98-b2b67ed78ccd",
   "metadata": {},
   "outputs": [],
   "source": [
    "import os\n",
    "import pandas as pd"
   ]
  },
  {
   "cell_type": "code",
   "execution_count": 2,
   "id": "f9348848-bee3-4070-ba8c-5f508ef58a5e",
   "metadata": {},
   "outputs": [
    {
     "data": {
      "text/plain": [
       "['combined_data_2.txt',\n",
       " 'combined_data_3.txt',\n",
       " 'combined_data_1.txt',\n",
       " 'combined_data_4.txt']"
      ]
     },
     "execution_count": 2,
     "metadata": {},
     "output_type": "execute_result"
    }
   ],
   "source": [
    "# Get file names\n",
    "d = \"netflix-dataset\"\n",
    "original_files = [f for f in os.listdir(d) if \"combined_data\" in f]\n",
    "original_files"
   ]
  },
  {
   "cell_type": "code",
   "execution_count": 3,
   "id": "a7210a2e-3d24-4795-8bde-a8b4d63b31e9",
   "metadata": {
    "tags": []
   },
   "outputs": [
    {
     "name": "stdout",
     "output_type": "stream",
     "text": [
      "Working on file combined_data_2.txt...\n",
      "Done!\n",
      "Stored to cleaned_combined_data_2.csv\n",
      "Working on file combined_data_3.txt...\n",
      "Done!\n",
      "Stored to cleaned_combined_data_3.csv\n",
      "Working on file combined_data_1.txt...\n",
      "Done!\n",
      "Stored to cleaned_combined_data_1.csv\n",
      "Working on file combined_data_4.txt...\n",
      "Done!\n",
      "Stored to cleaned_combined_data_4.csv\n",
      "CPU times: user 5min 55s, sys: 9min 59s, total: 15min 54s\n",
      "Wall time: 45min 42s\n"
     ]
    }
   ],
   "source": [
    "%%time\n",
    "\n",
    "# Loop over the original files and clean them up\n",
    "for filename in original_files:\n",
    "    new_lines = []\n",
    "    print(f\"Working on file {filename}...\")\n",
    "    \n",
    "    # Open the file filename, identify the movieID and add it to corresponding rows\n",
    "    with open(f\"netflix-dataset/{filename}\") as data:\n",
    "        for line in data:\n",
    "            if \":\\n\" in line:\n",
    "                movieID = line.strip(\":\\n\")\n",
    "            else:\n",
    "                new_line = movieID+\",\"+line\n",
    "                new_line = new_line.strip(\"\\n\").split(\",\")\n",
    "                new_lines.append(new_line)\n",
    "\n",
    "        # Save to new file\n",
    "        df = pd.DataFrame(new_lines)\n",
    "        new_filename = \"cleaned_\" + filename.replace(\"txt\", \"csv\")\n",
    "        df.to_csv(f'cleaned-dataset/{new_filename}', header=False, index=False)\n",
    "        \n",
    "        print(\"Done!\")\n",
    "        print(f\"Stored to {new_filename}\")\n",
    "        "
   ]
  },
  {
   "cell_type": "code",
   "execution_count": null,
   "id": "cc43d681-3aef-4098-80b4-fcbc42e81866",
   "metadata": {},
   "outputs": [],
   "source": []
  },
  {
   "cell_type": "code",
   "execution_count": null,
   "id": "d1c6507d-220a-4fcd-9a2e-b2600a908bb4",
   "metadata": {},
   "outputs": [],
   "source": []
  },
  {
   "cell_type": "code",
   "execution_count": null,
   "id": "9e4f2103-7406-40ff-aaed-e62006484de5",
   "metadata": {},
   "outputs": [],
   "source": []
  },
  {
   "cell_type": "code",
   "execution_count": null,
   "id": "a6b5a911-05a2-456a-a29d-6419823804c6",
   "metadata": {},
   "outputs": [],
   "source": []
  }
 ],
 "metadata": {
  "kernelspec": {
   "display_name": "Python 3 (ipykernel)",
   "language": "python",
   "name": "python3"
  },
  "language_info": {
   "codemirror_mode": {
    "name": "ipython",
    "version": 3
   },
   "file_extension": ".py",
   "mimetype": "text/x-python",
   "name": "python",
   "nbconvert_exporter": "python",
   "pygments_lexer": "ipython3",
   "version": "3.8.12"
  }
 },
 "nbformat": 4,
 "nbformat_minor": 5
}
